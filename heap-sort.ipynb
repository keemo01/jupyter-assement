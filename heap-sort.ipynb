{
 "cells": [
  {
   "cell_type": "markdown",
   "id": "a45ea3e2",
   "metadata": {},
   "source": [
    "# HeapSort Algorithm\n",
    "by Akeem Jokosenumi\n",
    "Student ID: G00366442"
   ]
  },
  {
   "cell_type": "markdown",
   "id": "8acb1c15",
   "metadata": {},
   "source": [
    "\n",
    "#### Heapsort is a sorting method based on comparison in computer science. Heapsort, like selection sort, separates its input into a sorted and an unsorted region, then iteratively decreases the unsorted part by taking the largest element from it and putting it into the sorted region."
   ]
  },
  {
   "cell_type": "markdown",
   "id": "3a14a63c",
   "metadata": {},
   "source": [
    "### References \n",
    "\n",
    "##### I. McLoughlin, “Using git for assessments,”\n",
    "##### https://github.com/ianmcloughlin/using-git-for-assessments/.\n",
    "##### [2] GMIT, “Quality assurance framework,”\n",
    "##### https://www.gmit.ie/general/quality-assurance-framework."
   ]
  },
  {
   "cell_type": "markdown",
   "id": "38c4d22f",
   "metadata": {},
   "source": [
    "## Python program for implementation of heap Sort\n"
   ]
  },
  {
   "cell_type": "markdown",
   "id": "de8ae34c",
   "metadata": {},
   "source": [
    "# This is for Sorting Arrays"
   ]
  },
  {
   "cell_type": "code",
   "execution_count": 13,
   "id": "a0a570f6",
   "metadata": {},
   "outputs": [],
   "source": [
    "from heapq import heappop, heappush"
   ]
  },
  {
   "cell_type": "code",
   "execution_count": 14,
   "id": "1af9c74e",
   "metadata": {},
   "outputs": [
    {
     "name": "stdout",
     "output_type": "stream",
     "text": [
      "[1, 2, 4, 5, 10, 15, 18, 22, 24, 30]\n"
     ]
    }
   ],
   "source": [
    "def heap_sort(array):\n",
    "    heap = []\n",
    "    for element in array:\n",
    "        heappush(heap, element)\n",
    "\n",
    "    ordered = []\n",
    "\n",
    "    # While we have elements left in the heap\n",
    "    while heap:\n",
    "        ordered.append(heappop(heap))\n",
    "\n",
    "    return ordered\n",
    "\n",
    "# The numbers we stored in which we will have them sorted in order to show the logic working\n",
    "array = [1, 10, 15, 5, 30, 4, 22, 18, 24, 2]\n",
    "print(heap_sort(array))"
   ]
  },
  {
   "cell_type": "markdown",
   "id": "696581ff",
   "metadata": {},
   "source": [
    "As we can see, the heap data structure handles the hard lifting; all we have to do is add and remove elements one by one."
   ]
  },
  {
   "cell_type": "code",
   "execution_count": null,
   "id": "5875ad8b",
   "metadata": {},
   "outputs": [],
   "source": []
  }
 ],
 "metadata": {
  "kernelspec": {
   "display_name": "Python 3 (ipykernel)",
   "language": "python",
   "name": "python3"
  },
  "language_info": {
   "codemirror_mode": {
    "name": "ipython",
    "version": 3
   },
   "file_extension": ".py",
   "mimetype": "text/x-python",
   "name": "python",
   "nbconvert_exporter": "python",
   "pygments_lexer": "ipython3",
   "version": "3.9.7"
  }
 },
 "nbformat": 4,
 "nbformat_minor": 5
}
