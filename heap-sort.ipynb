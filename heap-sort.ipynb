{
 "cells": [
  {
   "cell_type": "markdown",
   "id": "a45ea3e2",
   "metadata": {},
   "source": [
    "# HeapSort Algorithm\n",
    "by Akeem Jokosenumi\n",
    "Student ID: G00366442"
   ]
  },
  {
   "cell_type": "markdown",
   "id": "8acb1c15",
   "metadata": {},
   "source": [
    "\n",
    "#### In computer science, heapsort is a comparison-based sorting algorithm. Like selection sort, heapsort divides its input into a sorted and an unsorted region, then gradually reduces the unsorted half by removing the largest element from it and putting it into the sorted zone."
   ]
  },
  {
   "cell_type": "markdown",
   "id": "3a14a63c",
   "metadata": {},
   "source": [
    "### References \n",
    "\n",
    "##### I. McLoughlin, “Using git for assessments,”\n",
    "##### https://github.com/ianmcloughlin/using-git-for-assessments/.\n",
    "##### [2] GMIT, “Quality assurance framework,”\n",
    "##### https://www.gmit.ie/general/quality-assurance-framework."
   ]
  },
  {
   "cell_type": "markdown",
   "id": "38c4d22f",
   "metadata": {},
   "source": [
    "## Python program for implementation of heap Sort\n"
   ]
  },
  {
   "cell_type": "markdown",
   "id": "de8ae34c",
   "metadata": {},
   "source": [
    "# This is for Sorting Arrays"
   ]
  },
  {
   "cell_type": "code",
   "execution_count": 19,
   "id": "a0a570f6",
   "metadata": {},
   "outputs": [],
   "source": [
    "from heapq import heappop, heappush"
   ]
  },
  {
   "cell_type": "code",
   "execution_count": 20,
   "id": "1af9c74e",
   "metadata": {},
   "outputs": [
    {
     "name": "stdout",
     "output_type": "stream",
     "text": [
      "[1, 2, 3, 7, 9, 11, 13, 17, 22]\n"
     ]
    }
   ],
   "source": [
    "def heap_sort(array):\n",
    "    heap = []\n",
    "    for element in array:\n",
    "        heappush(heap, element)\n",
    "\n",
    "    ordered = []\n",
    "\n",
    "    # While we have elements left in the heap\n",
    "    while heap:\n",
    "        ordered.append(heappop(heap))\n",
    "\n",
    "    return ordered\n",
    "\n",
    "# The numbers we stored in which we will have them sorted in order to show the logic working\n",
    "array = [17, 3, 11, 9, 13, 2, 1, 7, 22]\n",
    "print(heap_sort(array))"
   ]
  },
  {
   "cell_type": "markdown",
   "id": "696581ff",
   "metadata": {},
   "source": [
    "As we can see, the heap data structure handles the hard lifting; all we have to do is add and remove elements one by one."
   ]
  },
  {
   "cell_type": "markdown",
   "id": "4edab043",
   "metadata": {},
   "source": [
    "![](https://www.bing.com/images/search?view=detailV2&ccid=1vauh3eE&id=12F93E3E0C71D419F5BE3F3C8C63F40E05026FB5&thid=OIP.1vauh3eEe7KLhtF8vwCACQHaCw&mediaurl=https%3a%2f%2ftutorials-image.s3-us-west-2.amazonaws.com%2fheap%2bsort2.png&cdnurl=https%3a%2f%2fth.bing.com%2fth%2fid%2fR.d6f6ae8777847bb28b86d17cbf008009%3frik%3dtW8CBQ70Y4w8Pw%26pid%3dImgRaw%26r%3d0&exph=227&expw=611&q=Heap+Sort+Example&simid=608031575453152809&FORM=IRPRST&ck=F197C6C7B4C19866AD0D2FC16B60E12F&selectedIndex=59&ajaxhist=0&ajaxserp=0)"
   ]
  },
  {
   "cell_type": "markdown",
   "id": "3f08d820",
   "metadata": {},
   "source": [
    "![Heap Sort](https://tutorials-image.s3-us-west-2.amazonaws.com/heap+sort2.png)"
   ]
  },
  {
   "cell_type": "markdown",
   "id": "22b81630",
   "metadata": {},
   "source": [
    "## Sorting Custom Objects\n"
   ]
  },
  {
   "cell_type": "markdown",
   "id": "e87f7459",
   "metadata": {},
   "source": [
    "When you use custom classes, things get a little more difficult. We usually advise avoiding overriding comparison operators in classes in order to use our sorting algorithms for them, and instead recommend rewriting the algorithm to use a lambda function comparator.\n",
    "\n",
    "However, since our implementation relies on the built-in heap methods, we can't do that"
   ]
  },
  {
   "cell_type": "markdown",
   "id": "5e61551a",
   "metadata": {},
   "source": [
    "We could use n = len(array) to find the largest and smallest elements, but the methods don't use Heap Sort and are effectively the same as calling the sorted() function.\n",
    "\n",
    "For bespoke classes, the sole option is to override the comparison operators. Unfortunately, this restricts us to only one form of comparison per class. We can only sort ClWinner objects by year in this case.\n",
    "\n",
    "It does, however, allow us to show the use of Heap Sort on custom classes. Let's define the ClWinner class:"
   ]
  },
  {
   "cell_type": "code",
   "execution_count": 21,
   "id": "489f0719",
   "metadata": {},
   "outputs": [],
   "source": [
    "from heapq import heappop, heappush"
   ]
  },
  {
   "cell_type": "code",
   "execution_count": 22,
   "id": "13609457",
   "metadata": {},
   "outputs": [],
   "source": [
    "class Winner:\n",
    "    def __init__(self, team, year):\n",
    "        self.team = team\n",
    "        self.year = year\n",
    "\n",
    "    def __str__(self):\n",
    "        return str.format(\"Team: {}, Year: {}\", self.team, self.year)\n",
    "\n",
    "    def __lt__(self, other):\n",
    "        return self.year < other.year\n",
    "\n",
    "    def __gt__(self, other):\n",
    "        return other.__lt__(self)\n",
    "\n",
    "    def __eq__(self, other):\n",
    "        return self.year == other.year\n",
    "\n",
    "    def __ne__(self, other):\n",
    "        return not self.__eq__(other)"
   ]
  },
  {
   "cell_type": "code",
   "execution_count": 27,
   "id": "ac728ee8",
   "metadata": {},
   "outputs": [],
   "source": [
    "def heap_sort(array):\n",
    "    heap = []\n",
    "    for element in array:\n",
    "        heappush(heap, element)\n",
    "\n",
    "    ordered = []\n",
    "\n",
    "    while heap:\n",
    "        ordered.append(heappop(heap))\n",
    "\n",
    "    return ordered"
   ]
  },
  {
   "cell_type": "code",
   "execution_count": 30,
   "id": "dc67c2e0",
   "metadata": {},
   "outputs": [
    {
     "name": "stdout",
     "output_type": "stream",
     "text": [
      "Team: Ajax, Year: 1995\n",
      "Team: Borussia Dortmund, Year: 1997\n",
      "Team: Liverpool, Year: 2005\n",
      "Team: Manchester United, Year: 2008\n",
      "Team: Inter Milan, Year: 2010\n",
      "Team: Real Madrid, Year: 2014\n",
      "Team: Real Madrid, Year: 2016\n",
      "Team: Fc Bayern Munich, Year: 2020\n",
      "Team: Chelsea Fc, Year: 2021\n"
     ]
    }
   ],
   "source": [
    "team1 = Winner(\"Chelsea Fc\", 2021)\n",
    "team2 = Winner(\"Fc Bayern Munich\", 2020)\n",
    "team3 = Winner(\"Manchester United\", 2008)\n",
    "team4 = Winner(\"Real Madrid\", 2016)\n",
    "team5 = Winner(\"Inter Milan\", 2010)\n",
    "team6 = Winner(\"Real Madrid\", 2014)\n",
    "team7 = Winner(\"Liverpool\", 2005)\n",
    "team8 = Winner(\"Ajax\", 1995)\n",
    "team9 = Winner(\"Borussia Dortmund\", 1997)\n",
    "\n",
    "\n",
    "array = [team1, team2, team3, team4, team5, team6, team7, team8, team9]\n",
    "\n",
    "for winner in heap_sort(array):\n",
    "    print(winner)"
   ]
  },
  {
   "cell_type": "markdown",
   "id": "5b7d95c9",
   "metadata": {},
   "source": [
    "## Comparing to Other Algorithms\n",
    "\n",
    "One of the main reasons Heap Sort is still used fairly often, even though it's often outperformed by a well-implemented Quick Sort, is its reliability.\n",
    "\n",
    "Heap Sort's main advantage here are the O(n*logn) upper bound as far as time complexity is concerned, and security concerns.\n",
    "\n",
    "The Heap Sorting Time On average and in the worst-case scenarios, sort is O(n*logn). While rapid sort is 20% quicker on average, it has an exploitable O(n*n) worst-case behavior and additional memory needs, making it less appropriate for kernel use.\n",
    "\n",
    "Furthermore, Quick Sort operates badly in predicted situations, which could provide a security issue if enough information about the internal code is available.\n",
    "\n",
    "Heap Sort is frequently compared to Merge Sort, which has the same temporal complexity.\n",
    "\n",
    "Merge Sort is stable and intuitively parallelizable, whereas Heap Sort is neither.\n",
    "\n",
    "In most circumstances, Heap Sort is slower than Merge Sort, while having the same complexity, since Heap Sort has bigger constant factors.\n",
    "\n",
    "Heap Sort, on the other hand, is significantly easier to construct in-place than Merge Sort, therefore it's preferable when memory is more essential than speed."
   ]
  },
  {
   "cell_type": "code",
   "execution_count": null,
   "id": "21f7bf2a",
   "metadata": {},
   "outputs": [],
   "source": []
  }
 ],
 "metadata": {
  "kernelspec": {
   "display_name": "Python 3 (ipykernel)",
   "language": "python",
   "name": "python3"
  },
  "language_info": {
   "codemirror_mode": {
    "name": "ipython",
    "version": 3
   },
   "file_extension": ".py",
   "mimetype": "text/x-python",
   "name": "python",
   "nbconvert_exporter": "python",
   "pygments_lexer": "ipython3",
   "version": "3.9.7"
  }
 },
 "nbformat": 4,
 "nbformat_minor": 5
}
